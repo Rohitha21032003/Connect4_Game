{
  "nbformat": 4,
  "nbformat_minor": 0,
  "metadata": {
    "colab": {
      "provenance": []
    },
    "kernelspec": {
      "name": "python3",
      "display_name": "Python 3"
    },
    "language_info": {
      "name": "python"
    }
  },
  "cells": [
    {
      "cell_type": "code",
      "metadata": {
        "id": "BqSAsHoMaDR4",
        "colab": {
          "base_uri": "https://localhost:8080/"
        },
        "outputId": "52cf2031-6889-41e3-9492-2c8f81128f6c"
      },
      "source": [
        "import numpy as np\n",
        "def create_board():\n",
        "  board=np.zeros((7,7))\n",
        "\n",
        "\n",
        "  return board\n",
        "board=create_board()\n",
        "print(board)"
      ],
      "execution_count": null,
      "outputs": [
        {
          "output_type": "stream",
          "name": "stdout",
          "text": [
            "[[0. 0. 0. 0. 0. 0. 0.]\n",
            " [0. 0. 0. 0. 0. 0. 0.]\n",
            " [0. 0. 0. 0. 0. 0. 0.]\n",
            " [0. 0. 0. 0. 0. 0. 0.]\n",
            " [0. 0. 0. 0. 0. 0. 0.]\n",
            " [0. 0. 0. 0. 0. 0. 0.]\n",
            " [0. 0. 0. 0. 0. 0. 0.]]\n"
          ]
        }
      ]
    },
    {
      "cell_type": "code",
      "metadata": {
        "id": "2SzcQ8Bba6t6",
        "colab": {
          "base_uri": "https://localhost:8080/"
        },
        "outputId": "4b2f8025-f498-46b2-e8b9-c630eba086c0"
      },
      "source": [
        "import numpy as np\n",
        "def create_board():\n",
        "  board=np.zeros((7,7))\n",
        "  return board\n",
        "board=create_board()\n",
        "def drop_piece(board,row,col,piece):\n",
        "  board[row][col]=piece\n",
        "def is_valid_location(board,col):\n",
        "  return board[6][col]==0\n",
        "def get_next_open_row(board,col):\n",
        "  for r in range(7):\n",
        "    if board[r][col]==0:\n",
        "      return r\n",
        "def print_board(board):\n",
        "  print(np.flip(board,0))\n",
        "  # for rows\n",
        "def winning_move(board,piece):\n",
        "  for c in range(4):\n",
        "    for r in range(7):\n",
        "      if board[r][c]==piece and board[r][c+1]==piece and board[r][c+2]==piece and board[r][c+3]==piece:\n",
        "        return True\n",
        "  # for columns\n",
        "  for c in range(7):\n",
        "    for r in range(4):\n",
        "      if board[r][c]==piece and board[r+1][c]==piece and board[r+2][c]==piece and board[r+3][c]==piece:\n",
        "        return True\n",
        "  # for positively sloped diagonals\n",
        "  for c in range(4):\n",
        "    for r in range(4):\n",
        "      if board[r][c]==piece and board[r+1][c+1]==piece and board[r+2][c+2]==piece and board[r+3][c+3]==piece:\n",
        "        return True\n",
        "  # for negatively sloped diagonals\n",
        "  for c in range(4):\n",
        "    for r in range(3,7):\n",
        "      if board[r][c]==piece and board[r-1][c+1]==piece and board[r-2][c+2]==piece and board[r-3][c+3]==piece:\n",
        "        return True\n",
        "board=create_board()\n",
        "print_board(board)\n",
        "game_over=False\n",
        "turn=0\n",
        "while not game_over:\n",
        "  if turn==0:\n",
        "    col =int(input('player1(0,6):'))\n",
        "    if is_valid_location(board,col):\n",
        "      row=get_next_open_row(board,col)\n",
        "      drop_piece(board,row,col,1)\n",
        "      turn=1\n",
        "      if winning_move(board,1):\n",
        "        print('player 1 wins!!!! congrats')\n",
        "        x=int(input('enter 0 to exit'))\n",
        "        if x==0:\n",
        "          break\n",
        "\n",
        "\n",
        "  else:\n",
        "    col=int(input('player2(0,6):'))\n",
        "    if is_valid_location(board,col):\n",
        "      row=get_next_open_row(board,col)\n",
        "      drop_piece(board,row,col,2)\n",
        "      turn=0\n",
        "\n",
        "      if winning_move(board,2):\n",
        "        print('player 2 wins!!!! congrats')\n",
        "        x=int(input('enter 0 to exit'))\n",
        "        if x==0:\n",
        "          break\n",
        "#game_over=True\n",
        "print(board)\n",
        "print_board(board)\n",
        "\n",
        "\n",
        "\n"
      ],
      "execution_count": null,
      "outputs": [
        {
          "output_type": "stream",
          "name": "stdout",
          "text": [
            "[[0. 0. 0. 0. 0. 0. 0.]\n",
            " [0. 0. 0. 0. 0. 0. 0.]\n",
            " [0. 0. 0. 0. 0. 0. 0.]\n",
            " [0. 0. 0. 0. 0. 0. 0.]\n",
            " [0. 0. 0. 0. 0. 0. 0.]\n",
            " [0. 0. 0. 0. 0. 0. 0.]\n",
            " [0. 0. 0. 0. 0. 0. 0.]]\n",
            "player1(0,6):1\n",
            "player2(0,6):2\n",
            "player1(0,6):1\n",
            "player2(0,6):2\n",
            "player1(0,6):1\n",
            "player2(0,6):2\n",
            "player1(0,6):1\n",
            "player 1 wins!!!! congrats\n",
            "enter 0 to exit0\n",
            "[[0. 1. 2. 0. 0. 0. 0.]\n",
            " [0. 1. 2. 0. 0. 0. 0.]\n",
            " [0. 1. 2. 0. 0. 0. 0.]\n",
            " [0. 1. 0. 0. 0. 0. 0.]\n",
            " [0. 0. 0. 0. 0. 0. 0.]\n",
            " [0. 0. 0. 0. 0. 0. 0.]\n",
            " [0. 0. 0. 0. 0. 0. 0.]]\n",
            "[[0. 0. 0. 0. 0. 0. 0.]\n",
            " [0. 0. 0. 0. 0. 0. 0.]\n",
            " [0. 0. 0. 0. 0. 0. 0.]\n",
            " [0. 1. 0. 0. 0. 0. 0.]\n",
            " [0. 1. 2. 0. 0. 0. 0.]\n",
            " [0. 1. 2. 0. 0. 0. 0.]\n",
            " [0. 1. 2. 0. 0. 0. 0.]]\n"
          ]
        }
      ]
    },
    {
      "cell_type": "code",
      "metadata": {
        "id": "kYIbanYR1cd_"
      },
      "source": [],
      "execution_count": null,
      "outputs": []
    }
  ]
}